{
 "cells": [
  {
   "cell_type": "code",
   "execution_count": 5,
   "metadata": {},
   "outputs": [
    {
     "name": "stdout",
     "output_type": "stream",
     "text": [
      "The autoreload extension is already loaded. To reload it, use:\n",
      "  %reload_ext autoreload\n"
     ]
    }
   ],
   "source": [
    "%load_ext autoreload\n",
    "%reload_ext autoreload\n",
    "%autoreload 2\n",
    "\n",
    "import pandas as pd\n",
    "import datetime\n",
    "from imgw_measurements.measurements import Measurements, Measurement\n",
    "from imgw_measurements.station_weather import Station\n",
    "from imgw_measurements.stations import *"
   ]
  },
  {
   "cell_type": "markdown",
   "metadata": {},
   "source": [
    "## Weather conditions measurements"
   ]
  },
  {
   "cell_type": "code",
   "execution_count": 65,
   "metadata": {},
   "outputs": [
    {
     "data": {
      "text/html": [
       "<div>\n",
       "<style scoped>\n",
       "    .dataframe tbody tr th:only-of-type {\n",
       "        vertical-align: middle;\n",
       "    }\n",
       "\n",
       "    .dataframe tbody tr th {\n",
       "        vertical-align: top;\n",
       "    }\n",
       "\n",
       "    .dataframe thead th {\n",
       "        text-align: right;\n",
       "    }\n",
       "</style>\n",
       "<table border=\"1\" class=\"dataframe\">\n",
       "  <thead>\n",
       "    <tr style=\"text-align: right;\">\n",
       "      <th></th>\n",
       "      <th>measurement_code</th>\n",
       "      <th>measurement_en</th>\n",
       "      <th>measurement_pl</th>\n",
       "      <th>measurement_unit</th>\n",
       "    </tr>\n",
       "  </thead>\n",
       "  <tbody>\n",
       "    <tr>\n",
       "      <th>0</th>\n",
       "      <td>B400E00200</td>\n",
       "      <td>Air Pressure</td>\n",
       "      <td>Ciśnienie atmosferyczne obserwowane-synop</td>\n",
       "      <td>hPa</td>\n",
       "    </tr>\n",
       "    <tr>\n",
       "      <th>1</th>\n",
       "      <td>B100E00200</td>\n",
       "      <td>Temperature</td>\n",
       "      <td>Temperatura powietrza chwilowa-synop</td>\n",
       "      <td>C</td>\n",
       "    </tr>\n",
       "    <tr>\n",
       "      <th>2</th>\n",
       "      <td>B500E00200</td>\n",
       "      <td>Humidity</td>\n",
       "      <td>Wilgotność względna chwilowa-synop</td>\n",
       "      <td>%</td>\n",
       "    </tr>\n",
       "    <tr>\n",
       "      <th>3</th>\n",
       "      <td>B201E002C1</td>\n",
       "      <td>Wind direction avg</td>\n",
       "      <td>Kierunek wiatru średni za ostatnie 10 min.-synop</td>\n",
       "      <td>st. kąta</td>\n",
       "    </tr>\n",
       "    <tr>\n",
       "      <th>4</th>\n",
       "      <td>B200E002C1</td>\n",
       "      <td>Wind speed avg</td>\n",
       "      <td>Prędkość wiatru średnia za ostatnie 10 min.-synop</td>\n",
       "      <td>m/s</td>\n",
       "    </tr>\n",
       "    <tr>\n",
       "      <th>5</th>\n",
       "      <td>B600B008FD</td>\n",
       "      <td>Rainfall</td>\n",
       "      <td>Suma opadu - deszcz-doba-synop</td>\n",
       "      <td>mm</td>\n",
       "    </tr>\n",
       "    <tr>\n",
       "      <th>6</th>\n",
       "      <td>B690E002FG</td>\n",
       "      <td>Sunshine 1h</td>\n",
       "      <td>Czas trwania usłonecznienia za ostatnią godzin...</td>\n",
       "      <td>minuta</td>\n",
       "    </tr>\n",
       "    <tr>\n",
       "      <th>7</th>\n",
       "      <td>B690B00800</td>\n",
       "      <td>Sunshine</td>\n",
       "      <td>Suma usłonecznienia-doba-synop</td>\n",
       "      <td>godzina</td>\n",
       "    </tr>\n",
       "    <tr>\n",
       "      <th>8</th>\n",
       "      <td>B650B008FD</td>\n",
       "      <td>Snowfall 2</td>\n",
       "      <td>Suma opadu - śnieg-doba-synop</td>\n",
       "      <td>mm</td>\n",
       "    </tr>\n",
       "    <tr>\n",
       "      <th>9</th>\n",
       "      <td>B610B00400</td>\n",
       "      <td>Visibility</td>\n",
       "      <td>Widzialność pozioma-synop</td>\n",
       "      <td>NaN</td>\n",
       "    </tr>\n",
       "  </tbody>\n",
       "</table>\n",
       "</div>"
      ],
      "text/plain": [
       "  measurement_code      measurement_en  \\\n",
       "0       B400E00200        Air Pressure   \n",
       "1       B100E00200         Temperature   \n",
       "2       B500E00200            Humidity   \n",
       "3       B201E002C1  Wind direction avg   \n",
       "4       B200E002C1      Wind speed avg   \n",
       "5       B600B008FD            Rainfall   \n",
       "6       B690E002FG         Sunshine 1h   \n",
       "7       B690B00800            Sunshine   \n",
       "8       B650B008FD          Snowfall 2   \n",
       "9       B610B00400          Visibility   \n",
       "\n",
       "                                      measurement_pl measurement_unit  \n",
       "0          Ciśnienie atmosferyczne obserwowane-synop              hPa  \n",
       "1               Temperatura powietrza chwilowa-synop                C  \n",
       "2                 Wilgotność względna chwilowa-synop                %  \n",
       "3   Kierunek wiatru średni za ostatnie 10 min.-synop         st. kąta  \n",
       "4  Prędkość wiatru średnia za ostatnie 10 min.-synop              m/s  \n",
       "5                     Suma opadu - deszcz-doba-synop               mm  \n",
       "6  Czas trwania usłonecznienia za ostatnią godzin...           minuta  \n",
       "7                     Suma usłonecznienia-doba-synop          godzina  \n",
       "8                      Suma opadu - śnieg-doba-synop               mm  \n",
       "9                          Widzialność pozioma-synop              NaN  "
      ]
     },
     "execution_count": 65,
     "metadata": {},
     "output_type": "execute_result"
    }
   ],
   "source": [
    "main_measures = pd.DataFrame(Measurements.build_main_measurements())\n",
    "main_measures"
   ]
  },
  {
   "cell_type": "markdown",
   "metadata": {},
   "source": [
    "# Fetching data for a specific weather station"
   ]
  },
  {
   "cell_type": "code",
   "execution_count": 7,
   "metadata": {},
   "outputs": [
    {
     "data": {
      "text/plain": [
       "('KRAKÓW-BALICE', 350190566)"
      ]
     },
     "execution_count": 7,
     "metadata": {},
     "output_type": "execute_result"
    }
   ],
   "source": [
    "station = Station(\"KRAKÓW-BALICE\")\n",
    "(station.name, station.id)"
   ]
  },
  {
   "cell_type": "code",
   "execution_count": 99,
   "metadata": {},
   "outputs": [
    {
     "data": {
      "text/plain": [
       "('KRAKÓW-OBSERWATORIUM', 250190390)"
      ]
     },
     "execution_count": 99,
     "metadata": {},
     "output_type": "execute_result"
    }
   ],
   "source": [
    "# station = Station(\"KRAKÓW-OBSERWATORIUM\")\n",
    "# (station.name, station.id)"
   ]
  },
  {
   "cell_type": "code",
   "execution_count": null,
   "metadata": {},
   "outputs": [],
   "source": [
    "cities = ['Warszawa', 'Wrocław', 'Gdańsk', 'Szczecin', 'Poznań', 'Katowice', 'Suwałki', 'Zakopane']"
   ]
  },
  {
   "cell_type": "code",
   "execution_count": null,
   "metadata": {},
   "outputs": [],
   "source": [
    "get_city_stations(\"KRAKÓW\")"
   ]
  },
  {
   "cell_type": "code",
   "execution_count": 46,
   "metadata": {},
   "outputs": [],
   "source": [
    "krakow_stations_names = [\n",
    " 'KRAKÓW-BALICE',\n",
    "]\n",
    "krakow_stations = [ Station(station_name) for station_name in krakow_stations_names]"
   ]
  },
  {
   "cell_type": "code",
   "execution_count": 49,
   "metadata": {},
   "outputs": [
    {
     "name": "stdout",
     "output_type": "stream",
     "text": [
      "WARNING: Missing data for KRAKÓW-OBSERWATORIUM station in 02/2003\n",
      "WARNING: Missing data for KRAKÓW-OBSERWATORIUM station in 03/2003\n",
      "WARNING: Missing data for KRAKÓW-OBSERWATORIUM station in 04/2003\n",
      "WARNING: Missing data for KRAKÓW-OBSERWATORIUM station in 05/2003\n",
      "WARNING: Missing data for KRAKÓW-OBSERWATORIUM station in 06/2003\n",
      "WARNING: Missing data for KRAKÓW-OBSERWATORIUM station in 07/2003\n",
      "WARNING: Missing data for KRAKÓW-OBSERWATORIUM station in 08/2003\n",
      "WARNING: Missing data for KRAKÓW-OBSERWATORIUM station in 09/2003\n",
      "WARNING: Missing data for KRAKÓW-OBSERWATORIUM station in 10/2003\n",
      "WARNING: Missing data for KRAKÓW-OBSERWATORIUM station in 11/2003\n",
      "WARNING: Missing data for KRAKÓW-OBSERWATORIUM station in 12/2003\n",
      "WARNING: Missing data for KRAKÓW-OBSERWATORIUM station in 01/2011\n",
      "WARNING: Missing data for KRAKÓW-OBSERWATORIUM station in 02/2011\n",
      "WARNING: Missing data for KRAKÓW-OBSERWATORIUM station in 03/2011\n",
      "WARNING: Missing data for KRAKÓW-OBSERWATORIUM station in 04/2011\n",
      "WARNING: Missing data for KRAKÓW-OBSERWATORIUM station in 05/2011\n",
      "WARNING: Missing data for KRAKÓW-OBSERWATORIUM station in 06/2011\n",
      "WARNING: Missing data for KRAKÓW-OBSERWATORIUM station in 07/2011\n",
      "WARNING: Missing data for KRAKÓW-OBSERWATORIUM station in 08/2011\n",
      "WARNING: Missing data for KRAKÓW-OBSERWATORIUM station in 09/2011\n",
      "WARNING: Missing data for KRAKÓW-OBSERWATORIUM station in 10/2011\n",
      "WARNING: Missing data for KRAKÓW-OBSERWATORIUM station in 11/2011\n",
      "WARNING: Missing data for KRAKÓW-OBSERWATORIUM station in 12/2011\n",
      "WARNING: Missing data for KRAKÓW-OBSERWATORIUM station in 01/2012\n",
      "WARNING: Missing data for KRAKÓW-OBSERWATORIUM station in 02/2012\n",
      "WARNING: Missing data for KRAKÓW-OBSERWATORIUM station in 03/2012\n",
      "WARNING: Missing data for KRAKÓW-OBSERWATORIUM station in 04/2012\n",
      "WARNING: Missing data for KRAKÓW-OBSERWATORIUM station in 05/2012\n",
      "WARNING: Missing data for KRAKÓW-OBSERWATORIUM station in 06/2012\n",
      "WARNING: Missing data for KRAKÓW-OBSERWATORIUM station in 07/2012\n",
      "WARNING: Missing data for KRAKÓW-OBSERWATORIUM station in 08/2012\n",
      "WARNING: Missing data for KRAKÓW-OBSERWATORIUM station in 09/2012\n",
      "WARNING: Missing data for KRAKÓW-OBSERWATORIUM station in 10/2012\n",
      "WARNING: Missing data for KRAKÓW-OBSERWATORIUM station in 11/2012\n",
      "WARNING: Missing data for KRAKÓW-OBSERWATORIUM station in 12/2012\n",
      "WARNING: Missing data for KRAKÓW-OBSERWATORIUM station in 01/2013\n",
      "WARNING: Missing data for KRAKÓW-OBSERWATORIUM station in 02/2013\n",
      "WARNING: Missing data for KRAKÓW-OBSERWATORIUM station in 03/2013\n",
      "WARNING: Missing data for KRAKÓW-OBSERWATORIUM station in 04/2013\n",
      "WARNING: Missing data for KRAKÓW-OBSERWATORIUM station in 05/2013\n",
      "WARNING: Missing data for KRAKÓW-OBSERWATORIUM station in 06/2013\n",
      "WARNING: Missing data for KRAKÓW-OBSERWATORIUM station in 07/2013\n",
      "WARNING: Missing data for KRAKÓW-OBSERWATORIUM station in 08/2013\n",
      "WARNING: Missing data for KRAKÓW-OBSERWATORIUM station in 09/2013\n",
      "WARNING: Missing data for KRAKÓW-OBSERWATORIUM station in 10/2013\n",
      "WARNING: Missing data for KRAKÓW-OBSERWATORIUM station in 11/2013\n",
      "WARNING: Missing data for KRAKÓW-OBSERWATORIUM station in 12/2013\n",
      "WARNING: Missing data for KRAKÓW-OBSERWATORIUM station in 10/2014\n",
      "WARNING: Missing data for KRAKÓW-OBSERWATORIUM station in 11/2014\n",
      "WARNING: Missing data for KRAKÓW-OBSERWATORIUM station in 12/2014\n",
      "WARNING: Missing data for KRAKÓW-OBSERWATORIUM station in 05/2015\n",
      "WARNING: Missing data for KRAKÓW-OBSERWATORIUM station in 06/2015\n",
      "WARNING: Missing data for KRAKÓW-OBSERWATORIUM station in 07/2015\n",
      "WARNING: Missing data for KRAKÓW-OBSERWATORIUM station in 08/2015\n",
      "WARNING: Missing data for KRAKÓW-OBSERWATORIUM station in 09/2015\n",
      "WARNING: Missing data for KRAKÓW-OBSERWATORIUM station in 10/2015\n",
      "WARNING: Missing data for KRAKÓW-OBSERWATORIUM station in 11/2015\n",
      "WARNING: Missing data for KRAKÓW-OBSERWATORIUM station in 12/2015\n",
      "WARNING: Missing data for KRAKÓW-BALICE station in 02/2003\n",
      "WARNING: Missing data for KRAKÓW-BALICE station in 03/2003\n",
      "WARNING: Missing data for KRAKÓW-BALICE station in 04/2003\n",
      "WARNING: Missing data for KRAKÓW-BALICE station in 05/2003\n",
      "WARNING: Missing data for KRAKÓW-BALICE station in 06/2003\n",
      "WARNING: Missing data for KRAKÓW-BALICE station in 07/2003\n",
      "WARNING: Missing data for KRAKÓW-BALICE station in 08/2003\n",
      "WARNING: Missing data for KRAKÓW-BALICE station in 09/2003\n",
      "WARNING: Missing data for KRAKÓW-BALICE station in 10/2003\n",
      "WARNING: Missing data for KRAKÓW-BALICE station in 11/2003\n",
      "WARNING: Missing data for KRAKÓW-BALICE station in 12/2003\n",
      "WARNING: Missing data for KRAKÓW-BALICE station in 01/2011\n",
      "WARNING: Missing data for KRAKÓW-BALICE station in 02/2011\n",
      "WARNING: Missing data for KRAKÓW-BALICE station in 03/2011\n",
      "WARNING: Missing data for KRAKÓW-BALICE station in 04/2011\n",
      "WARNING: Missing data for KRAKÓW-BALICE station in 05/2011\n",
      "WARNING: Missing data for KRAKÓW-BALICE station in 06/2011\n",
      "WARNING: Missing data for KRAKÓW-BALICE station in 07/2011\n",
      "WARNING: Missing data for KRAKÓW-BALICE station in 08/2011\n",
      "WARNING: Missing data for KRAKÓW-BALICE station in 09/2011\n",
      "WARNING: Missing data for KRAKÓW-BALICE station in 10/2011\n",
      "WARNING: Missing data for KRAKÓW-BALICE station in 11/2011\n",
      "WARNING: Missing data for KRAKÓW-BALICE station in 12/2011\n",
      "WARNING: Missing data for KRAKÓW-BALICE station in 01/2012\n",
      "WARNING: Missing data for KRAKÓW-BALICE station in 02/2012\n",
      "WARNING: Missing data for KRAKÓW-BALICE station in 03/2012\n",
      "WARNING: Missing data for KRAKÓW-BALICE station in 04/2012\n",
      "WARNING: Missing data for KRAKÓW-BALICE station in 05/2012\n",
      "WARNING: Missing data for KRAKÓW-BALICE station in 06/2012\n",
      "WARNING: Missing data for KRAKÓW-BALICE station in 07/2012\n",
      "WARNING: Missing data for KRAKÓW-BALICE station in 08/2012\n",
      "WARNING: Missing data for KRAKÓW-BALICE station in 09/2012\n",
      "WARNING: Missing data for KRAKÓW-BALICE station in 10/2012\n",
      "WARNING: Missing data for KRAKÓW-BALICE station in 11/2012\n",
      "WARNING: Missing data for KRAKÓW-BALICE station in 12/2012\n",
      "WARNING: Missing data for KRAKÓW-BALICE station in 01/2013\n",
      "WARNING: Missing data for KRAKÓW-BALICE station in 02/2013\n",
      "WARNING: Missing data for KRAKÓW-BALICE station in 03/2013\n",
      "WARNING: Missing data for KRAKÓW-BALICE station in 04/2013\n",
      "WARNING: Missing data for KRAKÓW-BALICE station in 05/2013\n",
      "WARNING: Missing data for KRAKÓW-BALICE station in 06/2013\n",
      "WARNING: Missing data for KRAKÓW-BALICE station in 07/2013\n",
      "WARNING: Missing data for KRAKÓW-BALICE station in 08/2013\n",
      "WARNING: Missing data for KRAKÓW-BALICE station in 09/2013\n",
      "WARNING: Missing data for KRAKÓW-BALICE station in 10/2013\n",
      "WARNING: Missing data for KRAKÓW-BALICE station in 11/2013\n",
      "WARNING: Missing data for KRAKÓW-BALICE station in 12/2013\n",
      "WARNING: Missing data for KRAKÓW-BALICE station in 10/2014\n",
      "WARNING: Missing data for KRAKÓW-BALICE station in 11/2014\n",
      "WARNING: Missing data for KRAKÓW-BALICE station in 12/2014\n",
      "WARNING: Missing data for KRAKÓW-BALICE station in 05/2015\n",
      "WARNING: Missing data for KRAKÓW-BALICE station in 06/2015\n",
      "WARNING: Missing data for KRAKÓW-BALICE station in 07/2015\n",
      "WARNING: Missing data for KRAKÓW-BALICE station in 08/2015\n",
      "WARNING: Missing data for KRAKÓW-BALICE station in 09/2015\n",
      "WARNING: Missing data for KRAKÓW-BALICE station in 10/2015\n",
      "WARNING: Missing data for KRAKÓW-BALICE station in 11/2015\n",
      "WARNING: Missing data for KRAKÓW-BALICE station in 12/2015\n"
     ]
    }
   ],
   "source": [
    "START_DATE = datetime.date(2003, 1, 1)\n",
    "END_DATE = datetime.date(2016, 12, 1)\n",
    "missing_periods = {}\n",
    "for station in krakow_stations:\n",
    "    missing_periods[station] = station.fetch_data_for_period(START_DATE, END_DATE)"
   ]
  },
  {
   "cell_type": "code",
   "execution_count": 72,
   "metadata": {},
   "outputs": [],
   "source": [
    "# csv_file = station.fetch_weather_conditions(2016, 5)\n",
    "csv_file = './input_data/imgw/data/station_350190566_KRAKÓW-BALICE/2016/350190566_2016_04.csv.gz'\n",
    "column_names = ['index', 'measurement_time', 'measurement_code', 'measurement_value']\n",
    "conditions_in_month = pd.read_csv(csv_file, delimiter=';', header=None, names=column_names)\n"
   ]
  },
  {
   "cell_type": "markdown",
   "metadata": {},
   "source": [
    "# Normalizing weather conditions dataframe"
   ]
  },
  {
   "cell_type": "code",
   "execution_count": 10,
   "metadata": {},
   "outputs": [],
   "source": [
    "def format_measurements_dataframe(df, measurement_name_pl):\n",
    "    output_df = df[df.measurement_pl == measurement_name_pl].copy()\n",
    "    measurement = Measurement(name=measurement_name_pl)\n",
    "    measurement_name_en = \"{} [{}]\".format(Measurements.MAIN_MEASURES[measurement_name_pl], measurement.unit)\n",
    "    output_df.rename(columns={'measurement_value': measurement_name_en}, inplace=True)\n",
    "    output_df[measurement_name_en] = pd.to_numeric(output_df[measurement_name_en], errors='coerce')\n",
    "    columns_order = [ 'measurement_time', measurement_name_en ]\n",
    "    output_df = output_df[columns_order]\n",
    "    output_df.measurement_time = pd.to_datetime(output_df.measurement_time)\n",
    "    output_df.set_index('measurement_time', inplace=True)\n",
    "    return output_df \n",
    "\n",
    "def merge_all_measuremets(weather_df):\n",
    "    weather_df = weather_df.merge(main_measures)\n",
    "    all_measures_df = pd.DataFrame([])\n",
    "    for measure_pl in Measurements.MAIN_MEASURES.keys():\n",
    "        measure_en = Measurements.MAIN_MEASURES[measure_pl]\n",
    "        measures_df = format_measurements_dataframe(weather_df, measure_pl)\n",
    "        all_measures_df = all_measures_df.merge(measures_df, right_index=True, left_index=True, how='outer')\n",
    "    all_measures_df['Wind speed avg [km/h]'] = all_measures_df['Wind speed avg [m/s]'] * 3.6\n",
    "    all_measures_df = all_measures_df.resample('H').last()\n",
    "    return all_measures_df.rename(columns={\"Visibility [nan]\": 'Visibility [m]'})\n"
   ]
  },
  {
   "cell_type": "code",
   "execution_count": 73,
   "metadata": {
    "scrolled": true
   },
   "outputs": [],
   "source": [
    "weather_conditions = merge_all_measuremets(conditions_in_month)"
   ]
  },
  {
   "cell_type": "code",
   "execution_count": 74,
   "metadata": {},
   "outputs": [
    {
     "data": {
      "text/plain": [
       "Index(['Air Pressure [hPa]', 'Temperature [C]', 'Humidity [%]',\n",
       "       'Wind direction avg [st. kąta]', 'Wind speed avg [m/s]',\n",
       "       'Rainfall [mm]', 'Sunshine 1h [minuta]', 'Sunshine [godzina]',\n",
       "       'Snowfall 2 [mm]', 'Visibility [m]', 'Wind speed avg [km/h]'],\n",
       "      dtype='object')"
      ]
     },
     "execution_count": 74,
     "metadata": {},
     "output_type": "execute_result"
    }
   ],
   "source": [
    "weather_conditions.columns"
   ]
  },
  {
   "cell_type": "code",
   "execution_count": 75,
   "metadata": {},
   "outputs": [
    {
     "data": {
      "text/plain": [
       "0.0"
      ]
     },
     "execution_count": 75,
     "metadata": {},
     "output_type": "execute_result"
    }
   ],
   "source": [
    "weather_conditions['Sunshine [godzina]'].sum()"
   ]
  },
  {
   "cell_type": "code",
   "execution_count": null,
   "metadata": {},
   "outputs": [],
   "source": [
    "all_measures['Rainfall 1h [mm]'].min()"
   ]
  },
  {
   "cell_type": "code",
   "execution_count": null,
   "metadata": {},
   "outputs": [],
   "source": [
    "all_measures['2016-02-27']"
   ]
  }
 ],
 "metadata": {
  "kernelspec": {
   "display_name": "Python 3",
   "language": "python",
   "name": "python3"
  },
  "language_info": {
   "codemirror_mode": {
    "name": "ipython",
    "version": 3
   },
   "file_extension": ".py",
   "mimetype": "text/x-python",
   "name": "python",
   "nbconvert_exporter": "python",
   "pygments_lexer": "ipython3",
   "version": "3.6.0"
  }
 },
 "nbformat": 4,
 "nbformat_minor": 2
}
